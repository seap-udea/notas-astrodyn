{
  "cells": [
    {
      "cell_type": "markdown",
      "metadata": {
        "id": "a14nN_AAqgiB"
      },
      "source": [
        "# Astrodinámica para Ingeniería Aeroespacial\n",
        "## Profesor Jorge I. Zuluaga"
      ]
    },
    {
      "cell_type": "markdown",
      "metadata": {},
      "source": [
        "## Clase 4 - Problema de Lambert (parte 2)\n",
        "<a target=\"_blank\" href=\"https://colab.research.google.com/github/seap-udea/notas-astrodyn/blob/main/Clase-04-astrodyn-problema_lambert_2.ipynb\"><img src=\"https://colab.research.google.com/assets/colab-badge.svg\" alt=\"Open In Colab\"/></a>"
      ]
    },
    {
      "cell_type": "markdown",
      "metadata": {
        "id": "KKh_lFBsqjlD"
      },
      "source": [
        "## Requerimientos"
      ]
    },
    {
      "cell_type": "code",
      "execution_count": 1,
      "metadata": {
        "colab": {
          "base_uri": "https://localhost:8080/"
        },
        "id": "Dy2TnOogqoDN",
        "outputId": "313ac48a-d98b-484a-9fd8-ee02b7239ab0"
      },
      "outputs": [
        {
          "name": "stdout",
          "output_type": "stream",
          "text": [
            "Installing PyMCEL\n"
          ]
        }
      ],
      "source": [
        "import sys \n",
        "if 'pymcel' not in sys.modules:\n",
        "    print(\"Installing PyMCEL\")\n",
        "    !pip3 install -Uq pymcel"
      ]
    },
    {
      "cell_type": "markdown",
      "metadata": {
        "id": "-XViv4fDq1xS"
      },
      "source": [
        "## Rutinas y constantes requeridas"
      ]
    },
    {
      "cell_type": "code",
      "execution_count": 2,
      "metadata": {
        "colab": {
          "base_uri": "https://localhost:8080/"
        },
        "id": "l3RtjqS0qpfL",
        "outputId": "f402d8ef-bc24-4bbc-e5f4-47c758c0a0aa"
      },
      "outputs": [
        {
          "name": "stdout",
          "output_type": "stream",
          "text": [
            "Paquete pymcel cargado. Versión: 0.6.5\n"
          ]
        }
      ],
      "source": [
        "import pymcel as pc\n",
        "import numpy as np\n",
        "import matplotlib.pyplot as plt\n",
        "import spiceypy as spy\n",
        "from matplotlib.patches import Circle\n",
        "grados = np.pi/180\n",
        "radianes = 1/grados\n",
        "\n",
        "def dibuja_conica(ax,e=0.5,p=1,w=0):\n",
        "\n",
        "    # Convertimos el argumento del periapsis a radianes\n",
        "    w = w*grados\n",
        "\n",
        "    # Calculamos los puntos en el sistema natural de la cónica\n",
        "    phi = np.pi if e<1 else 0.99*np.arccos(-1/e)\n",
        "    fs = np.linspace(-phi, phi, 1000)\n",
        "    rs = p/(1+e*np.cos(fs))\n",
        "    xps = rs*np.cos(fs)\n",
        "    yps = rs*np.sin(fs)\n",
        "    zps = np.zeros_like(xps)\n",
        "\n",
        "    # ROtamos los puntos\n",
        "    R = spy.rotate(-w, 3)\n",
        "    xs, ys, zs = pc.rota_puntos(R,xps,yps,zps)\n",
        "\n",
        "    # Graficamos\n",
        "    ax.plot(xs, ys)\n",
        "\n",
        "def lambert_geometrico(P1,P2,a,plot=False):\n",
        "  # Distancias\n",
        "  r1 = np.linalg.norm(P1)\n",
        "  r2 = np.linalg.norm(P2)\n",
        "\n",
        "  # Posición de los focos vacantes\n",
        "  try:\n",
        "    Fsx,Fsy,Ftx,Fty = pc.intersecta_circunferencias(P1[0],P1[1],2*a-r1,P2[0],P2[1],2*a-r2)\n",
        "  except:\n",
        "    return None\n",
        "\n",
        "  # Vectores dirigidos a los focos vacantes\n",
        "  Fsvec = np.array([Fsx,Fsy,0])\n",
        "  Ftvec = np.array([Ftx,Fty,0])\n",
        "\n",
        "  # Dependiendo de la distancia determina el nombre\n",
        "  if np.linalg.norm(Ftvec) < np.linalg.norm(Fsvec):\n",
        "    Fsvec,Ftvec = Ftvec,Fsvec\n",
        "\n",
        "  # Dirección de los vectores de excentricidad\n",
        "  ehats = -Fsvec/np.linalg.norm(Fsvec)\n",
        "  ehatt = -Ftvec/np.linalg.norm(Ftvec)\n",
        "\n",
        "  # Argumento del periapsis\n",
        "  ws = np.arctan2(ehats[1],ehats[0])\n",
        "  wt = np.arctan2(ehatt[1],ehatt[0])\n",
        "\n",
        "  # Excentricidades de las órbitas calculadas\n",
        "  es = np.linalg.norm(Fsvec)/(2*a)\n",
        "  et = np.linalg.norm(Ftvec)/(2*a)\n",
        "\n",
        "  # Semiejes mayores\n",
        "  ps = a*(1-es**2)\n",
        "  pt = a*(1-et**2)\n",
        "\n",
        "  # Dibuja solución\n",
        "  if plot:\n",
        "    print(f\"Argumento del periapsis de los focos vacantes:\",ws*radianes,wt*radianes)\n",
        "    print(f\"Excentricidades de las elipses encontradas:\",es,et)\n",
        "    print(f\"Semilatus recti de las elipses encontradas:\",ps,pt)\n",
        "\n",
        "    fig = plt.figure(figsize=(5,5))\n",
        "    ax = fig.add_subplot(111)\n",
        "\n",
        "    # Dibuja circunferencias\n",
        "    c1 = Circle(P1,radius=2*a-r1,color='r',fill=False,ls='--',alpha=0.2)\n",
        "    ax.add_patch(c1)\n",
        "\n",
        "    c2 = Circle(P2,radius=2*a-r2,color='b',fill=False,ls='--',alpha=0.2)\n",
        "    ax.add_patch(c2)\n",
        "\n",
        "    # Dibuja posición de los focos vacantes encontrados\n",
        "    ax.plot(0,0,'kx',ms=10)\n",
        "    ax.text(0,0,'F')\n",
        "\n",
        "    ax.plot(Fsvec[0],Fsvec[1],'ko')\n",
        "    ax.text(Fsvec[0],Fsvec[1],r'$F_*$',color='k')\n",
        "\n",
        "    ax.plot(Ftvec[0],Ftvec[1],'ko')\n",
        "    ax.text(Ftvec[0],Ftvec[1],r'$\\tilde F_{*}$',color='k')\n",
        "\n",
        "    # Dibuja las cónicas\n",
        "    dibuja_conica(ax,es,ps,ws*radianes)\n",
        "    ax.plot(P1[0],P1[1],'ro')\n",
        "    ax.plot(P2[0],P2[1],'bo')\n",
        "\n",
        "    dibuja_conica(ax,et,pt,wt*radianes)\n",
        "    ax.plot(P1[0],P1[1],'ro')\n",
        "    ax.plot(P2[0],P2[1],'bo')\n",
        "\n",
        "    ax.axis('equal')\n",
        "    ax.grid()\n",
        "\n",
        "  return r1, r2, ehats, ehatt, es, et, ps, pt, ws, wt"
      ]
    },
    {
      "cell_type": "markdown",
      "metadata": {
        "id": "FkSL0s_5qwsb"
      },
      "source": [
        "## Solución geométrica"
      ]
    },
    {
      "cell_type": "code",
      "execution_count": 3,
      "metadata": {
        "colab": {
          "base_uri": "https://localhost:8080/",
          "height": 497
        },
        "id": "qqUua9NorUqM",
        "outputId": "5cefbe09-ad17-47fc-a463-e7b1cb3d6c2a"
      },
      "outputs": [
        {
          "name": "stdout",
          "output_type": "stream",
          "text": [
            "Argumento del periapsis de los focos vacantes: 13.102720739531922 -133.95223093947584\n",
            "Excentricidades de las elipses encontradas: 0.3377151054194339 0.8533314563992094\n",
            "Semilatus recti de las elipses encontradas: 1.328922761357311 0.4077381382794063\n"
          ]
        },
        {
          "data": {
            "image/png": "[encoded data removed]",
            "text/plain": [
              "<Figure size 500x500 with 1 Axes>"
            ]
          },
          "metadata": {},
          "output_type": "display_data"
        }
      ],
      "source": [
        "P1 = np.array([1,0,0])\n",
        "P2 = np.array([0.1,1.2,0])\n",
        "a = 1.5\n",
        "\n",
        "r1,r2,ehats,ehatt,es,et,ps,pt,ws,wt = lambert_geometrico(P1,P2,a,plot=True)"
      ]
    },
    {
      "cell_type": "code",
      "execution_count": null,
      "metadata": {
        "id": "tRNzw1cCfEUT"
      },
      "outputs": [],
      "source": []
    }
  ],
  "metadata": {
    "colab": {
      "provenance": []
    },
    "kernelspec": {
      "display_name": "Python 3",
      "name": "python3"
    },
    "language_info": {
      "codemirror_mode": {
        "name": "ipython",
        "version": 3
      },
      "file_extension": ".py",
      "mimetype": "text/x-python",
      "name": "python",
      "nbconvert_exporter": "python",
      "pygments_lexer": "ipython3",
      "version": "3.12.5"
    }
  },
  "nbformat": 4,
  "nbformat_minor": 0
}
