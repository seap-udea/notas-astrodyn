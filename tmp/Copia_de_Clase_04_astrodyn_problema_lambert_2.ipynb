{
  "cells": [
    {
      "cell_type": "markdown",
      "metadata": {
        "id": "a14nN_AAqgiB"
      },
      "source": [
        "# Astrodinámica para Ingeniería Aeroespacial\n",
        "## Profesor Jorge I. Zuluaga"
      ]
    },
    {
      "cell_type": "markdown",
      "metadata": {
        "id": "carZOIZ3-4oU"
      },
      "source": [
        "## Clase 4 - Problema de Lambert (parte 2)\n",
        "<a target=\"_blank\" href=\"https://colab.research.google.com/github/seap-udea/notas-astrodyn/blob/main/Clase-04-astrodyn-problema_lambert_2.ipynb\"><img src=\"https://colab.research.google.com/assets/colab-badge.svg\" alt=\"Open In Colab\"/></a>"
      ]
    },
    {
      "cell_type": "markdown",
      "metadata": {
        "id": "KKh_lFBsqjlD"
      },
      "source": [
        "## Requerimientos"
      ]
    },
    {
      "cell_type": "code",
      "execution_count": 3,
      "metadata": {
        "colab": {
          "base_uri": "https://localhost:8080/"
        },
        "id": "Dy2TnOogqoDN",
        "outputId": "b7495d9c-9806-4a13-acfe-e1ceb192b3cd"
      },
      "outputs": [
        {
          "output_type": "stream",
          "name": "stdout",
          "text": [
            "Installing PyMCEL\n",
            "\u001b[2K   \u001b[90m━━━━━━━━━━━━━━━━━━━━━━━━━━━━━━━━━━━━━━━━\u001b[0m \u001b[32m1.2/1.2 MB\u001b[0m \u001b[31m18.7 MB/s\u001b[0m eta \u001b[36m0:00:00\u001b[0m\n",
            "\u001b[2K   \u001b[90m━━━━━━━━━━━━━━━━━━━━━━━━━━━━━━━━━━━━━━━━\u001b[0m \u001b[32m5.3/5.3 MB\u001b[0m \u001b[31m68.6 MB/s\u001b[0m eta \u001b[36m0:00:00\u001b[0m\n",
            "\u001b[2K   \u001b[90m━━━━━━━━━━━━━━━━━━━━━━━━━━━━━━━━━━━━━━━━\u001b[0m \u001b[32m1.7/1.7 MB\u001b[0m \u001b[31m52.0 MB/s\u001b[0m eta \u001b[36m0:00:00\u001b[0m\n",
            "\u001b[2K   \u001b[90m━━━━━━━━━━━━━━━━━━━━━━━━━━━━━━━━━━━━━━━━\u001b[0m \u001b[32m910.8/910.8 kB\u001b[0m \u001b[31m34.1 MB/s\u001b[0m eta \u001b[36m0:00:00\u001b[0m\n",
            "\u001b[?25h"
          ]
        }
      ],
      "source": [
        "import sys\n",
        "if 'pymcel' not in sys.modules:\n",
        "    print(\"Installing PyMCEL\")\n",
        "    !pip3 install -Uq pymcel"
      ]
    },
    {
      "cell_type": "markdown",
      "metadata": {
        "id": "-XViv4fDq1xS"
      },
      "source": [
        "## Rutinas y constantes requeridas"
      ]
    },
    {
      "cell_type": "code",
      "execution_count": 4,
      "metadata": {
        "colab": {
          "base_uri": "https://localhost:8080/"
        },
        "id": "l3RtjqS0qpfL",
        "outputId": "359ac4df-a2c5-4551-aaae-d5e472bb83ed"
      },
      "outputs": [
        {
          "output_type": "stream",
          "name": "stdout",
          "text": [
            "Paquete pymcel cargado. Versión: 0.6.5\n"
          ]
        }
      ],
      "source": [
        "import pymcel as pc\n",
        "import numpy as np\n",
        "import matplotlib.pyplot as plt\n",
        "import spiceypy as spy\n",
        "from matplotlib.patches import Circle\n",
        "grados = np.pi/180\n",
        "radianes = 1/grados\n",
        "\n",
        "def dibuja_conica(ax,e=0.5,p=1,w=0):\n",
        "\n",
        "    # Convertimos el argumento del periapsis a radianes\n",
        "    w = w*grados\n",
        "\n",
        "    # Calculamos los puntos en el sistema natural de la cónica\n",
        "    phi = np.pi if e<1 else 0.99*np.arccos(-1/e)\n",
        "    fs = np.linspace(-phi, phi, 1000)\n",
        "    rs = p/(1+e*np.cos(fs))\n",
        "    xps = rs*np.cos(fs)\n",
        "    yps = rs*np.sin(fs)\n",
        "    zps = np.zeros_like(xps)\n",
        "\n",
        "    # ROtamos los puntos\n",
        "    R = spy.rotate(-w, 3)\n",
        "    xs, ys, zs = pc.rota_puntos(R,xps,yps,zps)\n",
        "\n",
        "    # Graficamos\n",
        "    ax.plot(xs, ys)\n",
        "\n",
        "def lambert_geometrico(P1,P2,a,plot=False):\n",
        "  # Distancias\n",
        "  r1 = np.linalg.norm(P1)\n",
        "  r2 = np.linalg.norm(P2)\n",
        "\n",
        "  # Posición de los focos vacantes\n",
        "  try:\n",
        "    Fsx,Fsy,Ftx,Fty = pc.intersecta_circunferencias(P1[0],P1[1],2*a-r1,P2[0],P2[1],2*a-r2)\n",
        "  except:\n",
        "    return None\n",
        "\n",
        "  # Vectores dirigidos a los focos vacantes\n",
        "  Fsvec = np.array([Fsx,Fsy,0])\n",
        "  Ftvec = np.array([Ftx,Fty,0])\n",
        "\n",
        "  # Dependiendo de la distancia determina el nombre\n",
        "  if np.linalg.norm(Ftvec) < np.linalg.norm(Fsvec):\n",
        "    Fsvec,Ftvec = Ftvec,Fsvec\n",
        "\n",
        "  # Dirección de los vectores de excentricidad\n",
        "  ehats = -Fsvec/np.linalg.norm(Fsvec)\n",
        "  ehatt = -Ftvec/np.linalg.norm(Ftvec)\n",
        "\n",
        "  # Argumento del periapsis\n",
        "  ws = np.arctan2(ehats[1],ehats[0])\n",
        "  wt = np.arctan2(ehatt[1],ehatt[0])\n",
        "\n",
        "  # Excentricidades de las órbitas calculadas\n",
        "  es = np.linalg.norm(Fsvec)/(2*a)\n",
        "  et = np.linalg.norm(Ftvec)/(2*a)\n",
        "\n",
        "  # Semiejes mayores\n",
        "  ps = a*(1-es**2)\n",
        "  pt = a*(1-et**2)\n",
        "\n",
        "  # Dibuja solución\n",
        "  if plot:\n",
        "    print(f\"Argumento del periapsis de los focos vacantes:\",ws*radianes,wt*radianes)\n",
        "    print(f\"Excentricidades de las elipses encontradas:\",es,et)\n",
        "    print(f\"Semilatus recti de las elipses encontradas:\",ps,pt)\n",
        "\n",
        "    fig = plt.figure(figsize=(5,5))\n",
        "    ax = fig.add_subplot(111)\n",
        "\n",
        "    # Dibuja circunferencias\n",
        "    c1 = Circle(P1,radius=2*a-r1,color='r',fill=False,ls='--',alpha=0.2)\n",
        "    ax.add_patch(c1)\n",
        "\n",
        "    c2 = Circle(P2,radius=2*a-r2,color='b',fill=False,ls='--',alpha=0.2)\n",
        "    ax.add_patch(c2)\n",
        "\n",
        "    # Dibuja posición de los focos vacantes encontrados\n",
        "    ax.plot(0,0,'kx',ms=10)\n",
        "    ax.text(0,0,'F')\n",
        "\n",
        "    ax.plot(Fsvec[0],Fsvec[1],'ko')\n",
        "    ax.text(Fsvec[0],Fsvec[1],r'$F_*$',color='k')\n",
        "\n",
        "    ax.plot(Ftvec[0],Ftvec[1],'ko')\n",
        "    ax.text(Ftvec[0],Ftvec[1],r'$\\tilde F_{*}$',color='k')\n",
        "\n",
        "    # Dibuja las cónicas\n",
        "    dibuja_conica(ax,es,ps,ws*radianes)\n",
        "    ax.plot(P1[0],P1[1],'ro')\n",
        "    ax.plot(P2[0],P2[1],'bo')\n",
        "\n",
        "    dibuja_conica(ax,et,pt,wt*radianes)\n",
        "    ax.plot(P1[0],P1[1],'ro')\n",
        "    ax.plot(P2[0],P2[1],'bo')\n",
        "\n",
        "    ax.axis('equal')\n",
        "    ax.grid()\n",
        "\n",
        "  return r1, r2, ehats, ehatt, es, et, ps, pt, ws, wt"
      ]
    },
    {
      "cell_type": "markdown",
      "metadata": {
        "id": "FkSL0s_5qwsb"
      },
      "source": [
        "## Solución geométrica"
      ]
    },
    {
      "cell_type": "code",
      "execution_count": 5,
      "metadata": {
        "colab": {
          "base_uri": "https://localhost:8080/",
          "height": 497
        },
        "id": "qqUua9NorUqM",
        "outputId": "79800625-e9ae-4fb3-81ce-2e3fc0a00723"
      },
      "outputs": [
        {
          "output_type": "stream",
          "name": "stdout",
          "text": [
            "Argumento del periapsis de los focos vacantes: -125.29331765605177 -125.97162222707215\n",
            "Excentricidades de las elipses encontradas: 0.44434674188850204 0.46135271836113145\n",
            "Semilatus recti de las elipses encontradas: 0.7432731443238629 0.7290085707668976\n"
          ]
        },
        {
          "output_type": "display_data",
          "data": {
            "text/plain": [
              "<Figure size 500x500 with 1 Axes>"
            ],
            "image/png": "[encoded data removed]"
          },
          "metadata": {}
        }
      ],
      "source": [
        "P1 = np.array([1,0,0])\n",
        "P2 = np.array([0.1,1.2,0])\n",
        "a = 1.0001*0.9260398644698074\n",
        "\n",
        "r1,r2,ehats,ehatt,es,et,ps,pt,ws,wt = lambert_geometrico(P1,P2,a,plot=True)"
      ]
    },
    {
      "cell_type": "markdown",
      "source": [
        "Órbita de mínimo semieje mayor:"
      ],
      "metadata": {
        "id": "tRNzw1cCfEUT"
      }
    },
    {
      "cell_type": "code",
      "source": [
        "cvec = P2 - P1\n",
        "c = np.linalg.norm(cvec)\n",
        "am = (r1 + r2 + c)/4\n",
        "am"
      ],
      "metadata": {
        "colab": {
          "base_uri": "https://localhost:8080/"
        },
        "id": "MWBDdmroBm44",
        "outputId": "f6f88f78-fe8d-429b-dff1-da0bad06d54a"
      },
      "execution_count": 6,
      "outputs": [
        {
          "output_type": "execute_result",
          "data": {
            "text/plain": [
              "0.9260398644698074"
            ]
          },
          "metadata": {},
          "execution_count": 6
        }
      ]
    },
    {
      "cell_type": "markdown",
      "source": [
        "Órbita de mínima excentricidad:"
      ],
      "metadata": {
        "id": "pL1d1oEyBxrh"
      }
    },
    {
      "cell_type": "code",
      "source": [
        "es = (r2 - r1)/c\n",
        "es"
      ],
      "metadata": {
        "colab": {
          "base_uri": "https://localhost:8080/"
        },
        "id": "poUxLzd9JSuq",
        "outputId": "08edb8b1-34a7-42f2-985c-531cce4351fe"
      },
      "execution_count": 7,
      "outputs": [
        {
          "output_type": "execute_result",
          "data": {
            "text/plain": [
              "0.13610630525281975"
            ]
          },
          "metadata": {},
          "execution_count": 7
        }
      ]
    },
    {
      "cell_type": "code",
      "source": [
        "ps = r1 - es*(P2 - P1)@P1/c\n",
        "ps"
      ],
      "metadata": {
        "colab": {
          "base_uri": "https://localhost:8080/"
        },
        "id": "tFJx9vbOJV6R",
        "outputId": "1b868ccd-ab3e-45dd-96c7-ff0b407bbe1e"
      },
      "execution_count": 8,
      "outputs": [
        {
          "output_type": "execute_result",
          "data": {
            "text/plain": [
              "1.0816637831516918"
            ]
          },
          "metadata": {},
          "execution_count": 8
        }
      ]
    },
    {
      "cell_type": "code",
      "source": [
        "a_s = ps/(1 - es**2)\n",
        "a_s"
      ],
      "metadata": {
        "colab": {
          "base_uri": "https://localhost:8080/"
        },
        "id": "HcJDd0_tJvVz",
        "outputId": "93056649-2e41-4496-fb15-c1bccff3584b"
      },
      "execution_count": 9,
      "outputs": [
        {
          "output_type": "execute_result",
          "data": {
            "text/plain": [
              "1.1020797289396147"
            ]
          },
          "metadata": {},
          "execution_count": 9
        }
      ]
    },
    {
      "cell_type": "code",
      "source": [
        "r1,r2,ehats,ehatt,es,et,ps,pt,ws,wt = lambert_geometrico(P1,P2,a_s,plot=True)"
      ],
      "metadata": {
        "colab": {
          "base_uri": "https://localhost:8080/",
          "height": 497
        },
        "id": "2-AwLArvJ5lO",
        "outputId": "6fdc1390-23d8-4103-f659-5199bbe3e819"
      },
      "execution_count": 10,
      "outputs": [
        {
          "output_type": "stream",
          "name": "stdout",
          "text": [
            "Argumento del periapsis de los focos vacantes: -53.13010235415602 -132.51044707800085\n",
            "Excentricidades de las elipses encontradas: 0.13610630525281972 0.7385500417362116\n",
            "Semilatus recti de las elipses encontradas: 1.0816637831516918 0.5009435474063278\n"
          ]
        },
        {
          "output_type": "display_data",
          "data": {
            "text/plain": [
              "<Figure size 500x500 with 1 Axes>"
            ],
            "image/png": "[encoded data removed]"
          },
          "metadata": {}
        }
      ]
    },
    {
      "cell_type": "code",
      "source": [
        "def foo():\n",
        "  es = (r2 - r1)/c\n",
        "  ps = r1 - es*(P2 - P1)@P1/c\n",
        "  a_s = ps/(1 - es**2)\n",
        "%timeit foo()"
      ],
      "metadata": {
        "colab": {
          "base_uri": "https://localhost:8080/"
        },
        "id": "q_msjIv3KCCn",
        "outputId": "36da8a2b-6c65-41c1-9aa6-4f642785af11"
      },
      "execution_count": 11,
      "outputs": [
        {
          "output_type": "stream",
          "name": "stdout",
          "text": [
            "8.53 µs ± 2.74 µs per loop (mean ± std. dev. of 7 runs, 100000 loops each)\n"
          ]
        }
      ]
    },
    {
      "cell_type": "markdown",
      "source": [
        "## Tiempo de vuelo"
      ],
      "metadata": {
        "id": "IFoGXO6tKuE4"
      }
    },
    {
      "cell_type": "code",
      "source": [
        "am"
      ],
      "metadata": {
        "colab": {
          "base_uri": "https://localhost:8080/"
        },
        "id": "8kV3BilAQLkw",
        "outputId": "1b3e6264-f155-4815-d4c3-85dbd2cf9051"
      },
      "execution_count": 12,
      "outputs": [
        {
          "output_type": "execute_result",
          "data": {
            "text/plain": [
              "0.9260398644698074"
            ]
          },
          "metadata": {},
          "execution_count": 12
        }
      ]
    },
    {
      "cell_type": "code",
      "source": [
        "a = 2"
      ],
      "metadata": {
        "id": "R6B--rdoQOX3"
      },
      "execution_count": 13,
      "outputs": []
    },
    {
      "cell_type": "code",
      "source": [
        "r1,r2,ehats,ehatt,es,et,ps,pt,ws,wt = lambert_geometrico(P1,P2,a,plot=True)"
      ],
      "metadata": {
        "colab": {
          "base_uri": "https://localhost:8080/",
          "height": 497
        },
        "id": "Yb_R7I92QQCS",
        "outputId": "950caee1-bfe9-4e3c-94f3-08eb7adec68c"
      },
      "execution_count": 14,
      "outputs": [
        {
          "output_type": "stream",
          "name": "stdout",
          "text": [
            "Argumento del periapsis de los focos vacantes: 21.44472864251333 -134.46679523568127\n",
            "Excentricidades de las elipses encontradas: 0.511717080711325 0.903593850220655\n",
            "Semilatus recti de las elipses encontradas: 1.4762912586165586 0.36703630768682505\n"
          ]
        },
        {
          "output_type": "display_data",
          "data": {
            "text/plain": [
              "<Figure size 500x500 with 1 Axes>"
            ],
            "image/png": "[encoded data removed]"
          },
          "metadata": {}
        }
      ]
    },
    {
      "cell_type": "code",
      "source": [
        "# Cálculo de la menos excéntrica\n",
        "Eo2 = np.arccos((1 - r2/a)/es)\n",
        "Eo2*radianes"
      ],
      "metadata": {
        "colab": {
          "base_uri": "https://localhost:8080/"
        },
        "id": "1VF5UnOGQTw-",
        "outputId": "99994269-c4fb-41f3-d872-ec5312127c3d"
      },
      "execution_count": 15,
      "outputs": [
        {
          "output_type": "execute_result",
          "data": {
            "text/plain": [
              "38.95702909997522"
            ]
          },
          "metadata": {},
          "execution_count": 15
        }
      ]
    },
    {
      "cell_type": "code",
      "source": [
        "E2 = Eo2"
      ],
      "metadata": {
        "id": "JmsMIwJVR8e2"
      },
      "execution_count": 16,
      "outputs": []
    },
    {
      "cell_type": "code",
      "source": [
        "Eo1 = np.arccos((1 - r1/a)/es)\n",
        "Eo1*radianes"
      ],
      "metadata": {
        "colab": {
          "base_uri": "https://localhost:8080/"
        },
        "id": "a-mAjMOAQzxw",
        "outputId": "bc563805-b1b9-43ea-d2e8-18ec5247aa62"
      },
      "execution_count": 17,
      "outputs": [
        {
          "output_type": "execute_result",
          "data": {
            "text/plain": [
              "12.284700587132201"
            ]
          },
          "metadata": {},
          "execution_count": 17
        }
      ]
    },
    {
      "cell_type": "code",
      "source": [
        "eyp = np.cross([0,0,1],ehats)\n",
        "sgny = np.dot(P1,eyp)\n",
        "sgny"
      ],
      "metadata": {
        "colab": {
          "base_uri": "https://localhost:8080/"
        },
        "id": "hihRkkYxRCyb",
        "outputId": "9615c386-b688-4fe8-f930-d14109153712"
      },
      "execution_count": 18,
      "outputs": [
        {
          "output_type": "execute_result",
          "data": {
            "text/plain": [
              "-0.3656035130512577"
            ]
          },
          "metadata": {},
          "execution_count": 18
        }
      ]
    },
    {
      "cell_type": "code",
      "source": [
        "E1 = 2*np.pi - Eo1\n",
        "E1"
      ],
      "metadata": {
        "colab": {
          "base_uri": "https://localhost:8080/"
        },
        "id": "9zpOMp-bReNr",
        "outputId": "43c97cc3-80d7-4bab-c572-d0a0755e4500"
      },
      "execution_count": 19,
      "outputs": [
        {
          "output_type": "execute_result",
          "data": {
            "text/plain": [
              "6.068776834312449"
            ]
          },
          "metadata": {},
          "execution_count": 19
        }
      ]
    },
    {
      "cell_type": "code",
      "source": [
        "mu = 1\n",
        "n = np.sqrt(mu/a**3)\n",
        "P = 2*np.pi/n\n",
        "P"
      ],
      "metadata": {
        "colab": {
          "base_uri": "https://localhost:8080/"
        },
        "id": "LiwC2oOnRxtd",
        "outputId": "a0e72f2a-04fa-44e0-f971-0de9e95da4a0"
      },
      "execution_count": 20,
      "outputs": [
        {
          "output_type": "execute_result",
          "data": {
            "text/plain": [
              "17.771531752633464"
            ]
          },
          "metadata": {},
          "execution_count": 20
        }
      ]
    },
    {
      "cell_type": "code",
      "source": [
        "E1, E2"
      ],
      "metadata": {
        "colab": {
          "base_uri": "https://localhost:8080/"
        },
        "id": "rF7Fp3GhTm_p",
        "outputId": "2bb29497-8953-4564-df0f-761987c14cea"
      },
      "execution_count": 21,
      "outputs": [
        {
          "output_type": "execute_result",
          "data": {
            "text/plain": [
              "(6.068776834312449, 0.6799284245898108)"
            ]
          },
          "metadata": {},
          "execution_count": 21
        }
      ]
    },
    {
      "cell_type": "code",
      "source": [
        "tf = (E2 - E1 - es*(np.sin(E2) - np.sin(E1)))/n\n",
        "tf"
      ],
      "metadata": {
        "colab": {
          "base_uri": "https://localhost:8080/"
        },
        "id": "M9p4a5BVSNvq",
        "outputId": "bbed7745-bdb8-43fb-8f15-3222fcbd93be"
      },
      "execution_count": 22,
      "outputs": [
        {
          "output_type": "execute_result",
          "data": {
            "text/plain": [
              "-16.459923715577645"
            ]
          },
          "metadata": {},
          "execution_count": 22
        }
      ]
    },
    {
      "cell_type": "code",
      "source": [
        "tf%P"
      ],
      "metadata": {
        "colab": {
          "base_uri": "https://localhost:8080/"
        },
        "id": "1_HIm6zTUGGW",
        "outputId": "e700ad32-9ee1-4bb4-97fa-e458ea3c7a70"
      },
      "execution_count": 23,
      "outputs": [
        {
          "output_type": "execute_result",
          "data": {
            "text/plain": [
              "1.3116080370558194"
            ]
          },
          "metadata": {},
          "execution_count": 23
        }
      ]
    },
    {
      "cell_type": "code",
      "source": [
        "def tiempo_vuelo(a,P1,P2,mu=1):\n",
        "  r1,r2,ehats,ehatt,es,et,ps,pt,ws,wt = lambert_geometrico(P1,P2,a,plot=False)\n",
        "\n",
        "  n = np.sqrt(mu/a**3)\n",
        "  P = 2*np.pi/n\n",
        "\n",
        "  # Órbita de menor excentridad\n",
        "  eyp = np.cross([0,0,1],ehats)\n",
        "  Eo2 = np.arccos((1 - r2/a)/es)\n",
        "  E2 = Eo2 if np.dot(P2,eyp)>0 else 2*np.pi - Eo2\n",
        "  Eo1 = np.arccos((1 - r1/a)/es)\n",
        "  E1 = Eo1 if np.dot(P1,eyp)>0 else 2*np.pi - Eo1\n",
        "  tf = (E2 - E1 - es*(np.sin(E2) - np.sin(E1)))/n\n",
        "  tfs1 = tf%P\n",
        "  tfs2 = P - tfs1\n",
        "\n",
        "  # Órbita de mayor excentridad\n",
        "  eyp = np.cross([0,0,1],ehatt)\n",
        "  Eo2 = np.arccos((1 - r2/a)/et)\n",
        "  E2 = Eo2 if np.dot(P2,eyp)>0 else 2*np.pi - Eo2\n",
        "  Eo1 = np.arccos((1 - r1/a)/et)\n",
        "  E1 = Eo1 if np.dot(P1,eyp)>0 else 2*np.pi - Eo1\n",
        "  tf = (E2 - E1 - et*(np.sin(E2) - np.sin(E1)))/n\n",
        "  tft1 = tf%P\n",
        "  tft2 = P - tft1\n",
        "\n",
        "  return tfs1, tfs2, tft1, tft2"
      ],
      "metadata": {
        "id": "QADhoWb9S3Ew"
      },
      "execution_count": 36,
      "outputs": []
    },
    {
      "cell_type": "code",
      "source": [
        "tiempo_vuelo(2,P1,P2)"
      ],
      "metadata": {
        "colab": {
          "base_uri": "https://localhost:8080/"
        },
        "id": "CbWAhRjrVyNE",
        "outputId": "6d6d235b-c556-4efc-d4be-ae2c38739c3a"
      },
      "execution_count": 37,
      "outputs": [
        {
          "output_type": "execute_result",
          "data": {
            "text/plain": [
              "(1.3116080370558194,\n",
              " 16.459923715577645,\n",
              " 16.257499243556357,\n",
              " 1.5140325090771078)"
            ]
          },
          "metadata": {},
          "execution_count": 37
        }
      ]
    },
    {
      "cell_type": "code",
      "source": [
        "P1 = np.array([1,0,0])\n",
        "P2 = np.array([0.1,1.2,0])\n",
        "r1 = np.linalg.norm(P1)\n",
        "r2 = np.linalg.norm(P2)\n",
        "c = np.linalg.norm(P2 - P1)\n",
        "am = (r1 + r2 + c)/4\n",
        "\n",
        "aes = np.linspace(2,1.0001*am,100)\n",
        "\n",
        "fig = plt.figure()\n",
        "ax = fig.add_subplot(111)\n",
        "for a in aes:\n",
        "  tfs1, tfs2, tft1, tft2 = tiempo_vuelo(a,P1,P2)\n",
        "  ax.plot(a,tfs1,'ro')\n",
        "  ax.plot(a,tfs2,'bo')\n",
        "\n",
        "  ax.plot(a,tft1,'rv')\n",
        "  ax.plot(a,tft2,'bv')\n",
        "\n",
        "ax.grid()\n",
        "ax.set_xlabel(r'$a$')\n",
        "ax.set_ylabel(r'$t_f$')"
      ],
      "metadata": {
        "colab": {
          "base_uri": "https://localhost:8080/",
          "height": 466
        },
        "id": "2BswM029V1WH",
        "outputId": "b0c665fa-0465-4370-e674-2a67a3059b52"
      },
      "execution_count": 38,
      "outputs": [
        {
          "output_type": "execute_result",
          "data": {
            "text/plain": [
              "Text(0, 0.5, '$t_f$')"
            ]
          },
          "metadata": {},
          "execution_count": 38
        },
        {
          "output_type": "display_data",
          "data": {
            "text/plain": [
              "<Figure size 640x480 with 1 Axes>"
            ],
            "image/png": "[encoded data removed]"
          },
          "metadata": {}
        }
      ]
    },
    {
      "cell_type": "code",
      "source": [
        "tfs1, tfs2, tft1, tft2 = tiempo_vuelo(1.0001*am,P1,P2)\n",
        "tfs1, tfs2, tft1, tft2"
      ],
      "metadata": {
        "colab": {
          "base_uri": "https://localhost:8080/"
        },
        "id": "G81EFg_AfOGP",
        "outputId": "b3e46b87-645d-4ed5-9f86-904176595e2b"
      },
      "execution_count": 57,
      "outputs": [
        {
          "output_type": "execute_result",
          "data": {
            "text/plain": [
              "(2.6596102498427614, 2.9404091740704903, 2.730907158644492, 2.8691122652687597)"
            ]
          },
          "metadata": {},
          "execution_count": 57
        }
      ]
    },
    {
      "cell_type": "markdown",
      "source": [
        "## Versión de Lambert de la Ecuación de Kepler"
      ],
      "metadata": {
        "id": "M5kSw4rhfxlw"
      }
    },
    {
      "cell_type": "code",
      "source": [
        "mu = 1\n",
        "P1 = np.array([1,0,0])\n",
        "P2 = np.array([0.1,1.2,0])\n",
        "r1 = np.linalg.norm(P1)\n",
        "r2 = np.linalg.norm(P2)\n",
        "c = np.linalg.norm(P2 - P1)\n",
        "s = (r1 + r2 + c)/2\n",
        "a = 2\n",
        "\n",
        "alfa = 2*np.arcsin((s/(2*a))**0.5)\n",
        "beta = 2*np.arcsin(((s-c)/(2*a))**0.5)\n",
        "\n",
        "tf = (a**(3/2)*(alfa - beta - (np.sin(alfa) - np.sin(beta))))/np.sqrt(mu)\n",
        "c, s, alfa, beta, tf"
      ],
      "metadata": {
        "colab": {
          "base_uri": "https://localhost:8080/"
        },
        "id": "L-9mhuSNtRKU",
        "outputId": "a40b49f8-3772-4c12-b77d-c085baff8c38"
      },
      "execution_count": 60,
      "outputs": [
        {
          "output_type": "execute_result",
          "data": {
            "text/plain": [
              "(1.5,\n",
              " 1.8520797289396147,\n",
              " 1.4967685965013495,\n",
              " 0.6024316990444019,\n",
              " 1.3116080370558185)"
            ]
          },
          "metadata": {},
          "execution_count": 60
        }
      ]
    },
    {
      "cell_type": "code",
      "source": [],
      "metadata": {
        "id": "QHL_KP1yuj1n"
      },
      "execution_count": null,
      "outputs": []
    }
  ],
  "metadata": {
    "colab": {
      "provenance": []
    },
    "kernelspec": {
      "display_name": "Python 3",
      "name": "python3"
    },
    "language_info": {
      "codemirror_mode": {
        "name": "ipython",
        "version": 3
      },
      "file_extension": ".py",
      "mimetype": "text/x-python",
      "name": "python",
      "nbconvert_exporter": "python",
      "pygments_lexer": "ipython3",
      "version": "3.12.5"
    }
  },
  "nbformat": 4,
  "nbformat_minor": 0
}