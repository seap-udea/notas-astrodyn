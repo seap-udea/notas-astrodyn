{
 "cells": [
  {
   "cell_type": "markdown",
   "metadata": {},
   "source": [
    "## Astrodinámica para Ingeniería Aeroespacial\n",
    "### Prof. Jorge I. Zuluaga\n",
    "### Instituto de Física - Universidad de Antioquia"
   ]
  },
  {
   "cell_type": "markdown",
   "metadata": {},
   "source": [
    "## Clase 3 - Problema de Lambert (parte 1)\n",
    "<a target=\"_blank\" href=\"https://colab.research.google.com/github/seap-udea/notas-astrodyn/blob/main/Clase-03-astrodyn-problema_lambert_1\n",
    ".ipynb\"><img src=\"https://colab.research.google.com/assets/colab-badge.svg\" alt=\"Open In Colab\"/></a>"
   ]
  },
  {
   "cell_type": "markdown",
   "metadata": {},
   "source": [
    "## Requerimientos"
   ]
  },
  {
   "cell_type": "code",
   "execution_count": 1,
   "metadata": {},
   "outputs": [],
   "source": [
    "!pip install -Uq pymcel\n",
    "!pip install -Uq ipympl"
   ]
  },
  {
   "cell_type": "markdown",
   "metadata": {},
   "source": [
    "Algunos magics requeridos:"
   ]
  },
  {
   "cell_type": "code",
   "execution_count": 2,
   "metadata": {},
   "outputs": [],
   "source": [
    "import sys\n",
    "if 'google.colab' in sys.modules:\n",
    "    %matplotlib widget\n",
    "    %matplotlib widget"
   ]
  },
  {
   "cell_type": "markdown",
   "metadata": {},
   "source": [
    "## Formulación del problema"
   ]
  },
  {
   "cell_type": "markdown",
   "metadata": {},
   "source": [
    "- Hemos aprendido hasta ahora:\n",
    "\n",
    "    - Cómo determinar todos la posición y velocidad de un cuerpo sobre una órbita cónica sabiendo conociendo sus elementos orbitales $(a,e,I,\\Omega,\\omega,f)$.\n",
    "\n",
    "    - Dado un valor inicial de la anomalía verdadera $f_0$ o el tiempo de paso por el periapsis de un cuerpo, cómo calcular el valor de la anomalía en cualquier momento del futuro.\n",
    "\n",
    "    - Dada la posición y velocidad de un cuerpo en un momento dado, cómo calcular su posición y velocidad en cualquier momento del futuro.\n",
    "    \n",
    "- A esta forma de la solución al problema de los dos cuerpos se la conoce como la solución al problema de valor inicial (*Initial value problem*, IVP)."
   ]
  },
  {
   "cell_type": "markdown",
   "metadata": {},
   "source": [
    "<!-- https://github.com/seap-udea/notas-astrodyn/blob/main/figuras/?raw=true -->\n",
    "<center><img src=\"figuras/problema-lambert.png\" width=400></br></center>"
   ]
  },
  {
   "cell_type": "markdown",
   "metadata": {},
   "source": [
    "\n",
    "\n",
    "- Queremos ahora resolver una versión del problema diferente, una que tiene interesantes aplicaciones en el contexto de la navegación espacial (mecánica orbital):\n",
    "\n",
    "    - Conozco las posiciones inicial y final de un cuerpo:\n",
    "\n",
    "        - ¿Cuáles son todas las posibles trayectorias cónicas que unen esos dos puntos?\n",
    "\n",
    "        - Dada la restricción de requerir que el tiempo de viaje sea uno específico $\\Delta t$ ¿Cuál es la trayectoria que sigue? ¿Cuál es la velocidad inicial del cuerpo?\n",
    "\n",
    "- Esta formulación del problema de los dos cuerpos se conoce matemáticamente como un problema de condiciones de frontera (*Boundary value problem*, BVP) y en la historia como *El problema de Lambert*. "
   ]
  },
  {
   "cell_type": "markdown",
   "metadata": {},
   "source": [
    "## El plano del problema de Lambert"
   ]
  },
  {
   "cell_type": "markdown",
   "metadata": {},
   "source": [
    "- Naturalmente el problema de Lambert general ocurre en tres dimensiones, sin embargo, por la naturaleza del problema de los dos cuerpos, siempre es posible reducir el problema a uno en dos dimensiones.\n",
    "\n",
    "- Para entenderlo debemos tener en cuenta que el centro del cuerpo central y los dos puntos $P_1$ y $P_2$ forman un plano. En geometría euclidiana, tres puntos definen siempre un plano. \n",
    "\n",
    "- Como el movimiento orbital se realiza también sobre un plano (por conservación del momentum angular), plano al que llamamos en mecánica celeste el *plano de Lagrange* y como sobre este plano están siempre los vectores posición y velocidad del cuerpo, entonces el plano de los vectores $\\vec r_1$ y $\\vec r_2$ debe también el plano de Lagrange."
   ]
  },
  {
   "cell_type": "markdown",
   "metadata": {},
   "source": [
    "<!-- https://github.com/seap-udea/notas-astrodyn/blob/main/figuras/?raw=true -->\n",
    "<center><img src=\"figuras/problema-lambert-espacio.png\" width=600></br></center>"
   ]
  },
  {
   "cell_type": "markdown",
   "metadata": {},
   "source": [
    "- Podemos entonces definir la matriz de rotación que nos lleva de las coordenadas del sistema de referencia de observación $(x,y,z)$ al sistema de referencia del plano de Lambert en el que el punto $P_1$ siempre está sobre el eje x usando:\n",
    "\n",
    "  $$\n",
    "  \\left(\\begin{array}{c}\n",
    "  x'''\\\\y'''\\\\z'''\n",
    "  \\end{array}\\right)\n",
    "  = R_z(\\omega')R_x(I)R_z(\\Omega)\n",
    "  \\left(\\begin{array}{c}\n",
    "  x\\\\y\\\\z\n",
    "  \\end{array}\\right)  \n",
    "  $$\n",
    "\n",
    "- Aquí los ángulos $I,\\Omega,\\omega$ se pueden obtener, primero, calculando 2 vectores claves:\n",
    "\n",
    "  $$\n",
    "  \\vec h' = \\vec r_1 \\times \\vec r_2\\\\\n",
    "  \\vec N = \\hat e_z \\times \\vec h'\n",
    "  $$\n",
    "\n",
    "> **NOTA**: No debe confundirse el vector $\\vec h'\\vec r_1 \\times \\vec r_2$ con el vector de momentum angular específico $\\vec h=\\vec r\\times \\vec v$. Aunque tienen la misma dirección (perpendicular al plano de Lambert), no tienen, ni las mismas unidades, ni el mismo significado físico.\n",
    "\n",
    "  y luego usando productos punto debidamente definidos:\n",
    "\n",
    "  $$\n",
    "  \\cos I = \\frac{\\vec h'\\cdot \\hat e_z}{h'}\\\\\n",
    "  \\cos \\Omega = \\frac{\\vec N\\cdot \\hat e_x}{N}\\\\\n",
    "  \\cos \\omega = \\frac{\\vec r_1\\cdot \\vec N}{N r_1}\\\\\n",
    "  $$\n",
    "\n",
    "> **NOTA**: Es importante entender aquí la discusión sobre los cuadrantes en los que están los ángulos $\\Omega$ y $\\omega$. Para un detalle de esa discusión ver *Sección 3.9.1. Determinación de órbita* en el libro de *Mecánica Celeste* de Zuluaga."
   ]
  },
  {
   "cell_type": "markdown",
   "metadata": {},
   "source": [
    "- En lo sucesivo la descripción del problema de Lambert se realizará en el sistema de coordenadas sobre el plano de Lambert. Con las definiciones dadas arriba usted siempre podrá pasar los vectores obtenidos en ese plano al plano de observación."
   ]
  },
  {
   "cell_type": "markdown",
   "metadata": {},
   "source": [
    "## El problema geométrico"
   ]
  },
  {
   "cell_type": "markdown",
   "metadata": {},
   "source": [
    "### De la física a la geometría"
   ]
  },
  {
   "cell_type": "markdown",
   "metadata": {},
   "source": [
    "- Los parámetros geométricos que definen completamente una cónica se pueden obtener a partir de las constantes de movimiento usando:\n",
    "\n",
    "    - Vector de excentricidad\n",
    "\n",
    "        $$\n",
    "        \\vec e = \\frac{\\vec h\\times \\vec v}{\\mu} - \\frac{\\vec r}{r}\n",
    "        $$\n",
    "\n",
    "    - Semilatus rectum:\n",
    "\n",
    "        $$\n",
    "        p = \\frac{h^2}{\\mu}\n",
    "        $$\n",
    "\n",
    "        donde $\\vec h=\\vec r\\times \\vec v$.\n",
    "\n",
    "- Dadas estas cantidades siempre es posible deducir otras propiedades geométricas y física de la curva:\n",
    "\n",
    "  - Excentricidad: $e = |\\vec e|$\n",
    "\n",
    "  - Semieje mayor: $a = p/(1-e^2)$\n",
    "    - Para una parábola: $a \\rightarrow \\infty$\n",
    "\n",
    "  - Energía específica: $\\epsilon = v_1^2/2 - \\mu/r_1$\n",
    "\n",
    "    - Para el caso de una elipse: $\\epsilon = -\\mu/(2a)$\n",
    "  \n",
    "  - Excentricidad a partir de los demás parámetros: $e = \\sqrt{1 + 2 \\epsilon h^2/\\mu^2}$"
   ]
  },
  {
   "cell_type": "code",
   "execution_count": 1,
   "metadata": {},
   "outputs": [],
   "source": [
    "import numpy as np\n",
    "grados = np.pi/180\n",
    "radianes = 1/grados\n",
    "\n",
    "e = 0.5\n",
    "p = 1 \n",
    "w = 30*grados\n",
    "ehat = np.array([np.cos(w),np.sin(w),0])"
   ]
  },
  {
   "cell_type": "code",
   "execution_count": 125,
   "metadata": {},
   "outputs": [],
   "source": [
    "!pip install -Uq pymcel"
   ]
  },
  {
   "cell_type": "code",
   "execution_count": 2,
   "metadata": {},
   "outputs": [
    {
     "name": "stdout",
     "output_type": "stream",
     "text": [
      "Paquete pymcel cargado. Versión: 0.6.3\n"
     ]
    },
    {
     "data": {
      "application/vnd.jupyter.widget-view+json": {
       "model_id": "66f3dc03c7b84a1fa5cc46bf2ffe30a8",
       "version_major": 2,
       "version_minor": 0
      },
      "text/plain": [
       "interactive(children=(FloatSlider(value=0.5, description='e', max=5.0), FloatSlider(value=1.0, description='p'…"
      ]
     },
     "metadata": {},
     "output_type": "display_data"
    }
   ],
   "source": [
    "import spiceypy as spy\n",
    "import pymcel as pc\n",
    "import matplotlib.pyplot as plt\n",
    "from ipywidgets import interact\n",
    "\n",
    "# Decorador\n",
    "@interact(e=(0,5,0.1), p=(0.1,5,0.1), w=(0,360,0.1))\n",
    "def dibuja_conica(e=0.5,p=1,w=30,show=True):\n",
    "    # Convierte a radianes\n",
    "    w = w*grados\n",
    "\n",
    "    # Dibujo conica\n",
    "    phi = np.pi if e<1 else np.arccos(-1/e)\n",
    "    fs = np.linspace(-0.99*phi,0.99*phi,1000)\n",
    "    rs = p/(1+e*np.cos(fs))\n",
    "\n",
    "    # Coordenadas naturales de la cónicas\n",
    "    xps = rs*np.cos(fs)\n",
    "    yps = rs*np.sin(fs)\n",
    "    zps = np.zeros_like(fs)\n",
    "\n",
    "    # Coordenadas observadas (en el plano de Lambert)\n",
    "    R = spy.rotate(-w,3)\n",
    "    xs,ys,zs = pc.rota_puntos(R,xps,yps,zps) \n",
    "\n",
    "    fig = plt.figure(figsize=(5,5))\n",
    "    ax = fig.add_subplot(111)\n",
    "\n",
    "    ax.plot(xs,ys)\n",
    "    ax.scatter(0,0,marker='x',color='k',s=100,alpha=0.3)\n",
    "    ax.text(0,0,'F')\n",
    "    ax.grid()\n",
    "    ax.set_xlim(-3*p,3*p)\n",
    "    ax.set_ylim(-3*p,3*p)\n",
    "\n",
    "    fig.tight_layout()\n",
    "    if show:\n",
    "        plt.show()\n",
    "    else:\n",
    "        return fig, ax"
   ]
  },
  {
   "cell_type": "code",
   "execution_count": 3,
   "metadata": {},
   "outputs": [
    {
     "data": {
      "application/vnd.jupyter.widget-view+json": {
       "model_id": "2a2fbc0379bc455d90d2be6631c000ce",
       "version_major": 2,
       "version_minor": 0
      },
      "text/plain": [
       "interactive(children=(FloatSlider(value=0.1, description='e', max=5.0), FloatSlider(value=1.0, description='p'…"
      ]
     },
     "metadata": {},
     "output_type": "display_data"
    }
   ],
   "source": [
    "@interact(e=(0,5,0.1), p=(0.1,5,0.1), w=(0,360,0.1))\n",
    "def lambert_manual(e=0.1,p=1.0,w=30):\n",
    "    P1 = np.array([1,0,0])\n",
    "    P2 = np.array([0.1,1.2,0])\n",
    "\n",
    "    fig, ax = dibuja_conica(e,p,w,show=False)\n",
    "    ax.plot(P1[0],P1[1],'ro')\n",
    "    ax.plot(P2[0],P2[1],'bo')\n",
    "    plt.show()"
   ]
  },
  {
   "cell_type": "code",
   "execution_count": 39,
   "metadata": {},
   "outputs": [
    {
     "name": "stdout",
     "output_type": "stream",
     "text": [
      "Las dos excentricidades son: 0.8533314563992094, 0.3377151054194339\n",
      "Los dos argumentos del periapsis son: -133.95223093947584, 13.102720739531922\n"
     ]
    },
    {
     "data": {
      "image/png": "[encoded data removed]",
      "text/plain": [
       "<Figure size 500x500 with 1 Axes>"
      ]
     },
     "metadata": {},
     "output_type": "display_data"
    }
   ],
   "source": [
    "P1 = np.array([1,0,0])\n",
    "P2 = np.array([0.1,1.2,0])\n",
    "\n",
    "# Cálculos\n",
    "a = 1.5\n",
    "r1 = np.linalg.norm(P1)\n",
    "r2 = np.linalg.norm(P2)\n",
    "\n",
    "xs, ys, xts, yts = pc.intersecta_circunferencias(P1[0], P1[1], 2*a-r1, \n",
    "                                                 P2[0], P2[1], 2*a-r2)\n",
    "\n",
    "Fsvec = -np.array([xs,ys,0])\n",
    "Fstvec = -np.array([xts,yts,0])\n",
    "\n",
    "es = np.linalg.norm(Fsvec)/(2*a)\n",
    "est = np.linalg.norm(Fstvec)/(2*a)\n",
    "print(f\"Las dos excentricidades son: {es}, {est}\")\n",
    "\n",
    "ps = a*(1-es**2)\n",
    "pst = a*(1-est**2)\n",
    "\n",
    "ehats = Fsvec/np.linalg.norm(Fsvec)\n",
    "ehatst = Fstvec/np.linalg.norm(Fstvec)\n",
    "\n",
    "ws = np.arctan2(ehats[1],ehats[0])\n",
    "wst = np.arctan2(ehatst[1],ehatst[0])\n",
    "print(f\"Los dos argumentos del periapsis son: {ws*radianes}, {wst*radianes}\")\n",
    "\n",
    "# Gráficos\n",
    "from matplotlib import patches\n",
    "\n",
    "fig, ax = dibuja_conica(es,ps,ws*radianes,show=False)\n",
    "# fig, ax = dibuja_conica(est,pst,wst*radianes,show=False)\n",
    "ax.plot(P1[0],P1[1],'ro')\n",
    "ax.plot(P2[0],P2[1],'bo')\n",
    "\n",
    "c1 = patches.Circle(P1,radius=2*a-r1,color='r',fill=False)\n",
    "ax.add_patch(c1)\n",
    "\n",
    "c2 = patches.Circle(P2,radius=2*a-r2,color='b',fill=False)\n",
    "ax.add_patch(c2)\n",
    "\n",
    "ax.plot(xs,ys,'ko',ms=10)\n",
    "ax.plot(xts,yts,'ko',ms=10)\n",
    "\n",
    "plt.show()"
   ]
  },
  {
   "cell_type": "markdown",
   "metadata": {},
   "source": [
    "### Dibujando una cónica a partir de sus propiedades geométricas"
   ]
  },
  {
   "cell_type": "markdown",
   "metadata": {},
   "source": [
    "- Para dibujar una cónica debemos específicar o bien sus propiedades físicas o bien sus propiedades geométricas.\n",
    "\n",
    "- Para cualquier cónica es posible representarla si se proveen tres cantidades: $p$, $e$ y $\\omega$.\n",
    "\n",
    "- Con estas tres cantidades, las coordenadas de cualquier punto sobre la cónica, provistos un conjunto de valores de $f\\in(-\\phi,\\phi)$.\n",
    "\n",
    "- El ángulo $f_\\mathrm{max}$ es el máximo valor de la anomalía verdadera que es igual a:\n",
    "  - Para elipse $f_\\mathrm{max} = \\pi$.\n",
    "  - Para parábola e hipérbola: $\\cos f_\\mathrm{max} = -1/e$."
   ]
  },
  {
   "cell_type": "markdown",
   "metadata": {},
   "source": [
    "- El siguiente código permite dibujar la cónica en su sistema de referencia:"
   ]
  },
  {
   "cell_type": "code",
   "execution_count": 35,
   "metadata": {},
   "outputs": [
    {
     "data": {
      "image/png": "[encoded data removed]",
      "text/plain": [
       "<Figure size 640x480 with 1 Axes>"
      ]
     },
     "metadata": {},
     "output_type": "display_data"
    }
   ],
   "source": [
    "import numpy as np\n",
    "p = 1\n",
    "e = 0.5\n",
    "\n",
    "fmax = 0.99*np.arccos(-1/e) if e>=1 else np.pi\n",
    "fs = np.linspace(-fmax, fmax, 1000)\n",
    "rs = p/(1+e*np.cos(fs))\n",
    "\n",
    "xps = rs*np.cos(fs)\n",
    "yps = rs*np.sin(fs)\n",
    "zps = np.zeros_like(xps)\n",
    "\n",
    "import matplotlib.pyplot as plt\n",
    "fig = plt.figure()\n",
    "ax = fig.add_subplot(111)\n",
    "ax.plot(xps, yps)\n",
    "ax.grid()\n",
    "ax.axis('equal');"
   ]
  },
  {
   "cell_type": "markdown",
   "metadata": {},
   "source": [
    "- Si queremos ahora agregar una rotación usaremos:"
   ]
  },
  {
   "cell_type": "code",
   "execution_count": 36,
   "metadata": {},
   "outputs": [
    {
     "data": {
      "image/png": "[encoded data removed]",
      "text/plain": [
       "<Figure size 640x480 with 1 Axes>"
      ]
     },
     "metadata": {},
     "output_type": "display_data"
    }
   ],
   "source": [
    "import pymcel as pc\n",
    "import spiceypy as spy\n",
    "deg = np.pi/180\n",
    "\n",
    "w = 30*deg \n",
    "R = spy.rotate(-w, 3)\n",
    "xs, ys, zs = pc.rota_puntos(R,xps,yps,zps)\n",
    "\n",
    "fig = plt.figure()\n",
    "ax = fig.add_subplot(111)\n",
    "ax.plot(xs, ys)\n",
    "ax.grid()\n",
    "ax.axis('equal');"
   ]
  },
  {
   "cell_type": "markdown",
   "metadata": {},
   "source": [
    "- Hagmos ahora un código interactivo que nos permita modificar los tres parámetros $e$, $p$, $\\omega$ y dibujar la cónica:"
   ]
  },
  {
   "cell_type": "code",
   "execution_count": 79,
   "metadata": {},
   "outputs": [
    {
     "data": {
      "application/vnd.jupyter.widget-view+json": {
       "model_id": "bdbee28eea214688b5e9ae073934b199",
       "version_major": 2,
       "version_minor": 0
      },
      "text/plain": [
       "interactive(children=(FloatSlider(value=0.5, description='e', max=2.0), FloatSlider(value=1.0, description='p'…"
      ]
     },
     "metadata": {},
     "output_type": "display_data"
    }
   ],
   "source": [
    "plt.close('all')\n",
    "from ipywidgets import interact\n",
    "@interact(e=(0,2,0.1), p=(0,2,0.1), w=(-180,180,0.1), zoom=(1,10,0.1))\n",
    "def dibuja_conica(e=0.5,p=1,w=0,zoom=1, interactive=False, fig=False):\n",
    "    w = w*deg\n",
    "    fmax = 0.99*np.arccos(-1/e) if e>=1 else np.pi\n",
    "    fs = np.linspace(-fmax, fmax, 1000)\n",
    "    rs = p/(1+e*np.cos(fs))\n",
    "\n",
    "    xps = rs*np.cos(fs)\n",
    "    yps = rs*np.sin(fs)\n",
    "    zps = np.zeros_like(xps)\n",
    "\n",
    "    R = spy.rotate(-w, 3)\n",
    "    xs, ys, zs = pc.rota_puntos(R,xps,yps,zps)\n",
    "\n",
    "    if fig is False:\n",
    "        fig = plt.figure(figsize=(5,5))\n",
    "        ax = fig.add_subplot(111)\n",
    "    else:\n",
    "        ax = fig.gca()\n",
    "    ax.plot(xs, ys)\n",
    "    range = 2*p*zoom\n",
    "    ax.set_xlim(-range,range)\n",
    "    ax.set_ylim(-range,range)\n",
    "    ax.grid()\n",
    "    if interactive: \n",
    "        plt.show()\n",
    "    return fig, ax"
   ]
  },
  {
   "cell_type": "markdown",
   "metadata": {},
   "source": [
    "### El problema geométrico de Lambert"
   ]
  },
  {
   "cell_type": "markdown",
   "metadata": {},
   "source": [
    "- Ahora estamos listos para abordar el problema geométrico de Lambert.\n",
    "\n",
    "- Primero debemos escoger dos puntos:"
   ]
  },
  {
   "cell_type": "code",
   "execution_count": 80,
   "metadata": {},
   "outputs": [],
   "source": [
    "P1 = [1,0,0]\n",
    "P2 = [0.5,0.7,0]"
   ]
  },
  {
   "cell_type": "markdown",
   "metadata": {},
   "source": [
    "- Creemos ahora un interactivo que combine cónica con puntos"
   ]
  },
  {
   "cell_type": "code",
   "execution_count": 81,
   "metadata": {},
   "outputs": [
    {
     "data": {
      "application/vnd.jupyter.widget-view+json": {
       "model_id": "d9d34a3f2295461eb54af4644294fcfe",
       "version_major": 2,
       "version_minor": 0
      },
      "text/plain": [
       "interactive(children=(Text(value='0', description='e'), Text(value='1', description='p'), Text(value='0', desc…"
      ]
     },
     "metadata": {},
     "output_type": "display_data"
    }
   ],
   "source": [
    "@interact\n",
    "def conica_y_puntos(e='0',p='1',w='0'):\n",
    "    e = float(e)\n",
    "    p = float(p)\n",
    "    w = float(w)\n",
    "\n",
    "    zoom = 2*np.linalg.norm(P2)/(2*p)\n",
    "    plt.close('all')\n",
    "    fig,ax = dibuja_conica(e,p,w,zoom)\n",
    "    ax.plot(P1[0],P1[1],'ro')\n",
    "    ax.plot(P2[0],P2[1],'bo')"
   ]
  },
  {
   "cell_type": "markdown",
   "metadata": {},
   "source": [
    "### Encontrando matemáticamente la cónica que pasa por los puntos"
   ]
  },
  {
   "cell_type": "markdown",
   "metadata": {},
   "source": [
    "- Como vimos en el apartado anterior, el problema de encontrar la cónica no es para nada trivial: hay una *correlación* entre los parámetros que hace difícil encontrar apropiadamente.\n",
    "\n",
    "- Resolveremos el problema primero para el caso de elipses que conectan los dos puntos.\n",
    "\n",
    "- Para ello nos valdremos de una propiedad que tienen las elipses y es aquella de que la suma de la distancia de cualquier punto a los dos focos es siempre igual a $2a$.\n",
    "\n",
    "- Para los dos puntos tenemos entonces que:\n",
    "\n",
    "  $$\n",
    "  P_1 F + P_1 F_* = 2a \\\\\n",
    "  P_2 F + P_2 F_* = 2a \\\\\n",
    "  $$\n",
    "\n",
    "- Está relación nos permite encontrar la distancia al foco vacante:\n",
    "\n",
    "  $$\n",
    "  P_1 F_* = 2a - r_1\\\\\n",
    "  P_2 F_* = 2a - r_2\\\\\n",
    "  $$"
   ]
  },
  {
   "cell_type": "code",
   "execution_count": null,
   "metadata": {},
   "outputs": [],
   "source": []
  },
  {
   "cell_type": "markdown",
   "metadata": {},
   "source": [
    "<!-- https://github.com/seap-udea/notas-astrodyn/blob/main/figuras/?raw=true -->\n",
    "<center><img src=\"figuras/foco-vacante.png\" width=600></br></center>"
   ]
  },
  {
   "cell_type": "markdown",
   "metadata": {},
   "source": [
    "- Estas dos ecuaciones indican que el foco vacante se encuentra sobre una circunferencia de radio $2a-r_1$ y $2a-r_2$. Es decir, la ubicación del foco vacante depende de la *elección* del valor de $a$. \n",
    "\n",
    "- Dibujemos esas circunferencias en el caso de los puntos:"
   ]
  },
  {
   "cell_type": "code",
   "execution_count": 91,
   "metadata": {},
   "outputs": [
    {
     "data": {
      "image/png": "[encoded data removed]",
      "text/plain": [
       "<Figure size 500x500 with 1 Axes>"
      ]
     },
     "metadata": {},
     "output_type": "display_data"
    }
   ],
   "source": [
    "P1 = [1,0,0]\n",
    "P2 = [0.5,0.7,0]\n",
    "\n",
    "a = 1\n",
    "r1 = np.linalg.norm(P1)\n",
    "r2 = np.linalg.norm(P2)\n",
    "\n",
    "from matplotlib.patches import Circle\n",
    "\n",
    "plt.close('all')\n",
    "fig = plt.figure(figsize=(5,5))\n",
    "ax = fig.add_subplot(111)\n",
    "ax.plot(0,0,'kx',ms=10)\n",
    "ax.text(0,0,'F')\n",
    "ax.plot(P1[0],P1[1],'ro')\n",
    "ax.text(P1[0],P1[1],'P1',color='r')\n",
    "ax.plot(P2[0],P2[1],'bo')\n",
    "ax.text(P2[0],P2[1],'P2',color='b')\n",
    "\n",
    "c1 = Circle(P1,radius=2*a-r1,color='r',fill=False)\n",
    "ax.add_patch(c1)\n",
    "\n",
    "c2 = Circle(P2,radius=2*a-r2,color='b',fill=False)\n",
    "ax.add_patch(c2)\n",
    "\n",
    "ax.axis('equal')\n",
    "ax.grid();\n"
   ]
  },
  {
   "cell_type": "markdown",
   "metadata": {},
   "source": [
    "- Podemos dibujar esos dos puntos si encontramos los puntos de intersección:"
   ]
  },
  {
   "cell_type": "code",
   "execution_count": 30,
   "metadata": {},
   "outputs": [
    {
     "name": "stdout",
     "output_type": "stream",
     "text": [
      "1.7767855851617815 1.8429878335694103\n",
      "-0.9867682840719326 -0.22967756835587572\n"
     ]
    },
    {
     "data": {
      "image/png": "[encoded data removed]",
      "text/plain": [
       "<Figure size 500x500 with 1 Axes>"
      ]
     },
     "metadata": {},
     "output_type": "display_data"
    }
   ],
   "source": [
    "import pymcel as pc\n",
    "\n",
    "P1 = [1,0,0]\n",
    "P2 = [0.1,1.2,0]\n",
    "\n",
    "Fsx,Fsy,Ftx,Fty = pc.intersecta_circunferencias(P1[0],P1[1],2*a-r1,P2[0],P2[1],2*a-r2)\n",
    "print(Fsx,Fsy)\n",
    "print(Ftx,Fty)\n",
    "\n",
    "a = 1.5\n",
    "r1 = np.linalg.norm(P1)\n",
    "r2 = np.linalg.norm(P2)\n",
    "\n",
    "from matplotlib.patches import Circle\n",
    "\n",
    "plt.close('all')\n",
    "fig = plt.figure(figsize=(5,5))\n",
    "ax = fig.add_subplot(111)\n",
    "ax.plot(0,0,'kx',ms=10)\n",
    "ax.text(0,0,'F')\n",
    "ax.plot(P1[0],P1[1],'ro')\n",
    "ax.text(P1[0],P1[1],'P1',color='r')\n",
    "ax.plot(P2[0],P2[1],'bo')\n",
    "ax.text(P2[0],P2[1],'P2',color='b')\n",
    "\n",
    "c1 = Circle(P1,radius=2*a-r1,color='r',fill=False)\n",
    "ax.add_patch(c1)\n",
    "\n",
    "c2 = Circle(P2,radius=2*a-r2,color='b',fill=False)\n",
    "ax.add_patch(c2)\n",
    "\n",
    "ax.plot(Fsx,Fsy,'ko')\n",
    "ax.text(Fsx,Fsy,r'$F_*$',color='k')\n",
    "\n",
    "ax.plot(Ftx,Fty,'ko')\n",
    "ax.text(Ftx,Fty,r'$\\tilde F_{*}$',color='k')\n",
    "\n",
    "ax.axis('equal')\n",
    "ax.grid();\n"
   ]
  },
  {
   "cell_type": "markdown",
   "metadata": {},
   "source": [
    "- Estos dos focos definen las dos elipses que pueden pasar por los puntos $P_1$ y $P_2$. \n",
    "\n",
    "- Podemos dibujar las elipses si, usando la posición de los focos vacantes calculamos el parámetro $\\omega$ correspondiente a cada foco. \n",
    "\n",
    "- Para ello definimos el vector unitario $\\hat e$:\n",
    "\n",
    "  $$\n",
    "  \\hat e = -\\vec F_* / F_*\n",
    "  $$\n",
    "\n",
    "- Tambipen necesitamos calcular la excentricidad:\n",
    "\n",
    "  $$\n",
    "  e = \\frac{|\\vec F_*|}{2a}\n",
    "  $$"
   ]
  },
  {
   "cell_type": "code",
   "execution_count": 27,
   "metadata": {},
   "outputs": [
    {
     "name": "stdout",
     "output_type": "stream",
     "text": [
      "[1.77678559 1.84298783 0.        ] [ 0.98676828  0.22967757 -0.        ]\n"
     ]
    }
   ],
   "source": [
    "print(Fsvec, Fstvec)"
   ]
  },
  {
   "cell_type": "code",
   "execution_count": 34,
   "metadata": {},
   "outputs": [
    {
     "name": "stdout",
     "output_type": "stream",
     "text": [
      "[1.77678559 1.84298783 0.        ] [-0.98676828 -0.22967757  0.        ]\n",
      "-133.95223093947584 13.102720739531922\n",
      "-133.95223093947584 13.102720739531922\n",
      "0.8533314563992094 0.3377151054194339\n",
      "0.4077381382794063 1.328922761357311\n"
     ]
    }
   ],
   "source": [
    "Fsvec = np.array([Fsx,Fsy,0])\n",
    "Ftvec = np.array([Ftx,Fty,0])\n",
    "print(Fsvec,Ftvec)\n",
    "\n",
    "# Dirección de los vectores de excentricidad\n",
    "ehats = -Fsvec/np.linalg.norm(Fsvec)\n",
    "ehatt = -Ftvec/np.linalg.norm(Ftvec)\n",
    "ws = np.arctan2(ehats[1],ehats[0])\n",
    "wt = np.arctan2(ehatt[1],ehatt[0])\n",
    "\n",
    "#ws = np.arctan2(Fsy,Fsx)\n",
    "#wt = np.arctan2(Fty,Ftx)\n",
    "\n",
    "print(ws*radianes,wt*radianes)\n",
    "\n",
    "rad = 180/np.pi\n",
    "print(ws*rad, wt*rad)\n",
    "\n",
    "# Excentricidades\n",
    "es = np.linalg.norm(Fsvec)/(2*a)\n",
    "et = np.linalg.norm(Ftvec)/(2*a)\n",
    "print(es,et)\n",
    "\n",
    "# Semiejes mayores \n",
    "ps = a*(1-es**2)\n",
    "pt = a*(1-et**2)\n",
    "print(ps,pt)\n"
   ]
  },
  {
   "cell_type": "code",
   "execution_count": 36,
   "metadata": {},
   "outputs": [
    {
     "name": "stdout",
     "output_type": "stream",
     "text": [
      "[1.77678559 1.84298783 0.        ] [-0.98676828 -0.22967757  0.        ]\n",
      "-133.95223093947584 13.102720739531922\n",
      "-133.95223093947584 13.102720739531922\n",
      "0.8533314563992094 0.3377151054194339\n",
      "0.4077381382794063 1.328922761357311\n"
     ]
    }
   ],
   "source": [
    "Fsvec = np.array([Fsx,Fsy,0])\n",
    "Ftvec = np.array([Ftx,Fty,0])\n",
    "print(Fsvec,Ftvec)\n",
    "\n",
    "# Dirección de los vectores de excentricidad\n",
    "ehats = -Fsvec/np.linalg.norm(Fsvec)\n",
    "ehatt = -Ftvec/np.linalg.norm(Ftvec)\n",
    "ws = np.arctan2(ehats[1],ehats[0])\n",
    "wt = np.arctan2(ehatt[1],ehatt[0])\n",
    "\n",
    "#ws = np.arctan2(Fsy,Fsx)\n",
    "#wt = np.arctan2(Fty,Ftx)\n",
    "print(ws*radianes,wt*radianes)\n",
    "\n",
    "rad = 180/np.pi\n",
    "print(ws*rad, wt*rad)\n",
    "\n",
    "# Excentricidades\n",
    "es = np.linalg.norm(Fsvec)/(2*a)\n",
    "et = np.linalg.norm(Ftvec)/(2*a)\n",
    "print(es,et)\n",
    "\n",
    "# Semiejes mayores \n",
    "ps = a*(1-es**2)\n",
    "pt = a*(1-et**2)\n",
    "print(ps,pt)\n"
   ]
  },
  {
   "cell_type": "markdown",
   "metadata": {},
   "source": [
    "- Con esta información podemos ahora dibujar las cónicas correspondientes:\n",
    "fig,ax = plt.subplots(figsize=(5,5))\n",
    "\n",
    "zoom = 2*np.linalg.norm(P2)/(2*ps)\n",
    "dibuja_conica(es,ps,ws*rad,zoom,False,fig)\n",
    "ax.plot(P1[0],P1[1],'ro')\n",
    "ax.plot(P2[0],P2[1],'bo')\n",
    "\n",
    "zoom = 2*np.linalg.norm(P2)/(2*pt)\n",
    "dibuja_conica(et,pt,wt*rad,zoom,False,fig)\n",
    "ax.plot(P1[0],P1[1],'ro')\n",
    "ax.plot(P2[0],P2[1],'bo')"
   ]
  },
  {
   "cell_type": "markdown",
   "metadata": {},
   "source": [
    "## Soluciones extremas"
   ]
  },
  {
   "cell_type": "markdown",
   "metadata": {},
   "source": [
    "### Solución de mínima energía"
   ]
  },
  {
   "cell_type": "markdown",
   "metadata": {},
   "source": [
    "- Existen dos casos extremos para las cónicas.\n",
    "\n",
    "- El primer caso corresponde a la situación cuando el valor de $a$ es tal que las circungerencias alrededor de los puntos se intersecan en un solo punto.\n",
    "\n",
    "- En este caso se cumple que:\n",
    "\n",
    "  $$\n",
    "  (2a - r_1) + (2a - r_2) = |\\vec r_2 - \\vec r_1|\n",
    "  $$\n",
    "\n",
    "- Si llamamos $c = |\\vec r_2 - \\vec r_1|$ entonces:\n",
    "\n",
    "  $$\n",
    "  a_m = \\frac{r_1 + r_2 + c}{4}\n",
    "  $$\n",
    "\n",
    "- Ninguna órbita elíptica con un eje mayor menor que este valor podrá encontrarse para unir los puntos, por eso llamamos a este el semieje mayor mínimo.\n",
    "\n",
    "- En términos de la energía de la órbita:\n",
    "\n",
    "  $$\n",
    "  \\epsilon = -\\frac{\\mu}{2a}\n",
    "  $$\n",
    "  el valor mínimo de $a$ implicará el máximo valor absoluto de $\\epsilon$, pero como la energía es negativa esto implicará que la trayectoria con semije mayor $a_m$ será la de mínima energía.  Es decir, la razón por la cuál no podemos encontrar una órbita con $a<a_m$ es porque no tendría suficiente energía para llevar a la partícula hasta allí. \n",
    "\n",
    "- La cantidad $r_1 + r_2 + c$ es el perímetro del tríangulo que forman el foco y los dos puntos que llamaremos el **triángulo espacial**.\n",
    "\n",
    "- Si definimos la cantidad $s$:\n",
    "\n",
    "  $$\n",
    "  s = \\frac{r_1 + r_2 + c}{2}\n",
    "  $$\n",
    "  entonces el semiejemayor mínimo será:\n",
    "\n",
    "  $$\n",
    "  a_m = \\frac{s}{2}\n",
    "  $$"
   ]
  },
  {
   "cell_type": "code",
   "execution_count": 96,
   "metadata": {},
   "outputs": [
    {
     "data": {
      "image/png": "[encoded data removed]",
      "text/plain": [
       "<Figure size 500x500 with 1 Axes>"
      ]
     },
     "metadata": {},
     "output_type": "display_data"
    }
   ],
   "source": [
    "import pymcel as pc\n",
    "\n",
    "Fsx,Fsy,Ftx,Fty = pc.intersecta_circunferencias(P1[0],P1[1],2*a-r1,P2[0],P2[1],2*a-r2)\n",
    "\n",
    "P1 = np.array([1,0,0])\n",
    "P2 = np.array([0.5,0.7,0])\n",
    "r1 = np.linalg.norm(P1)\n",
    "r2 = np.linalg.norm(P2)\n",
    "c = np.linalg.norm(P2-P1)\n",
    "s = (r1+r2+c)/2\n",
    "\n",
    "a = s/2\n",
    "r1 = np.linalg.norm(P1)\n",
    "r2 = np.linalg.norm(P2)\n",
    "\n",
    "from matplotlib.patches import Circle\n",
    "\n",
    "plt.close('all')\n",
    "fig = plt.figure(figsize=(5,5))\n",
    "ax = fig.add_subplot(111)\n",
    "ax.plot(0,0,'kx',ms=10)\n",
    "ax.text(0,0,'F')\n",
    "ax.plot(P1[0],P1[1],'ro')\n",
    "ax.text(P1[0],P1[1],'P1',color='r')\n",
    "ax.plot(P2[0],P2[1],'bo')\n",
    "ax.text(P2[0],P2[1],'P2',color='b')\n",
    "\n",
    "c1 = Circle(P1,radius=2*a-r1,color='r',fill=False)\n",
    "ax.add_patch(c1)\n",
    "\n",
    "c2 = Circle(P2,radius=2*a-r2,color='b',fill=False)\n",
    "ax.add_patch(c2)\n",
    "\n",
    "ax.axis('equal')\n",
    "ax.grid();\n"
   ]
  },
  {
   "cell_type": "markdown",
   "metadata": {},
   "source": [
    "- La posición del foco en este caso será:"
   ]
  },
  {
   "cell_type": "code",
   "execution_count": 111,
   "metadata": {},
   "outputs": [
    {
     "name": "stdout",
     "output_type": "stream",
     "text": [
      "-159.65702239315593\n",
      "0.6199024822459169\n",
      "0.4187618062809037\n"
     ]
    }
   ],
   "source": [
    "Fsvec = P1 + (P2-P1)*(2*am-r1)/c\n",
    "ehats = -Fsvec/np.linalg.norm(Fsvec)\n",
    "ws = np.arctan2(ehats[1],ehats[0])\n",
    "print(ws*rad)\n",
    "es = np.linalg.norm(Fsvec)/(2*a)\n",
    "print(es)\n",
    "ps = a*(1-es**2)\n",
    "print(ps)\n"
   ]
  },
  {
   "cell_type": "markdown",
   "metadata": {},
   "source": [
    "- Dibujemos la trayectoria:"
   ]
  },
  {
   "cell_type": "code",
   "execution_count": 112,
   "metadata": {},
   "outputs": [
    {
     "data": {
      "text/plain": [
       "[<matplotlib.lines.Line2D at 0x7f7b345c2e00>]"
      ]
     },
     "execution_count": 112,
     "metadata": {},
     "output_type": "execute_result"
    },
    {
     "data": {
      "image/png": "[encoded data removed]",
      "text/plain": [
       "<Figure size 500x500 with 1 Axes>"
      ]
     },
     "metadata": {},
     "output_type": "display_data"
    }
   ],
   "source": [
    "fig,ax = plt.subplots(figsize=(5,5))\n",
    "\n",
    "zoom = 2*np.linalg.norm(P2)/(2*ps)\n",
    "dibuja_conica(es,ps,ws*rad,zoom,False,fig)\n",
    "ax.plot(Fsvec[0],Fsvec[1],'ko') \n",
    "ax.plot(P1[0],P1[1],'ro')\n",
    "ax.plot(P2[0],P2[1],'bo')"
   ]
  },
  {
   "cell_type": "markdown",
   "metadata": {},
   "source": [
    "### Órbita de excentricidad mínima"
   ]
  },
  {
   "cell_type": "markdown",
   "metadata": {},
   "source": [
    "- Una interesante propiedad de las órbitas que conectan los puntos tiene que ver son su vector de excentricidad.\n",
    "\n",
    "- Por la solución misma del problema de los dos cuerpos:\n",
    "\n",
    "  $$\n",
    "  r=\\frac{p}{1+e\\cos f}\n",
    "  $$\n",
    "\n",
    "- Esta ecuación es equivalente a:\n",
    "  $$\n",
    "  \\vec r\\cdot \\vec e = p - r\n",
    "  $$\n",
    "\n",
    "- Si escribimos la misma ecuación para los dos puntos obtenemos:\n",
    "\n",
    "  $$\n",
    "  \\vec r_1\\cdot \\vec e = p - r_1\n",
    "  \\vec r_2\\cdot \\vec e = p - r_2\n",
    "  $$\n",
    "\n",
    "- Restando y dividiendo por $c = |\\vec r_2-\\vec r_1|$ obtenemos:\n",
    "\n",
    "  $$\n",
    "  \\vec e\\cdot (\\vec r_2-\\vec r_1)/c = -(r_2 - r_1) / c\n",
    "  $$\n",
    "\n",
    "- El significado de este resultado es que la proyección del vector de excentricidad sobre el vector que une los dos puntos es siempre constante. \n",
    "\n",
    "- Podemos encontrar la trayectoria de mínima excentricidad, cuando el vector de excentricidad es paralelo a la línea que los une. En este caso\n",
    "\n",
    "  $$\n",
    "  e_s = \\frac{r_2 - r_1}{s}\n",
    "  $$\n",
    "\n",
    "- Una vez tengo la excentricidad puedeo calcular el semilatus rectum para ello puedo usar:\n",
    "\n",
    "  $$\n",
    "  p = \\vec r_1\\cdot \\vec e + r_1 \n",
    "  $$\n",
    "\n",
    "- Pero necesitamos saber la dirección del vector $\\vec e$. Para ello podemos usar:\n",
    "\n",
    "  $$\n",
    "  \\vec e\\cdot (\\vec r_2-\\vec r_1)/c = -(r_2 - r_1) / c\n",
    "  $$\n",
    "  que muestra que el vector $\\vec e$ va en dirección opuesta a $\\vec r_2-\\vec r_1$ de modo que finalmente\n",
    "\n",
    "  $$\n",
    "  p_s = e \\vec r_1\\cdot (\\vec r_2-\\vec r_1)/c + r_1\n",
    "  $$\n"
   ]
  },
  {
   "cell_type": "markdown",
   "metadata": {},
   "source": [
    "### Para saber más"
   ]
  },
  {
   "cell_type": "markdown",
   "metadata": {},
   "source": [
    "Consulte el repositorio en línea del curso para otro material."
   ]
  },
  {
   "cell_type": "markdown",
   "metadata": {},
   "source": [
    "<hr/>"
   ]
  },
  {
   "cell_type": "markdown",
   "metadata": {},
   "source": [
    "*Los cuadernos de clase del curso de astrodinámica también están [disponibles en línea](https://github.com/seap-udea/notas-astrodyn).*"
   ]
  }
 ],
 "metadata": {
  "kernelspec": {
   "display_name": "Python 3",
   "language": "python",
   "name": "python3"
  },
  "language_info": {
   "codemirror_mode": {
    "name": "ipython",
    "version": 3
   },
   "file_extension": ".py",
   "mimetype": "text/x-python",
   "name": "python",
   "nbconvert_exporter": "python",
   "pygments_lexer": "ipython3",
   "version": "3.10.12"
  }
 },
 "nbformat": 4,
 "nbformat_minor": 2
}
