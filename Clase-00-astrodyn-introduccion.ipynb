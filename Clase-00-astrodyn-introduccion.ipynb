{
 "cells": [
  {
   "cell_type": "markdown",
   "metadata": {},
   "source": [
    "## Astrodinámica para Ingeniería Aeroespacial\n",
    "### Prof. Jorge I. Zuluaga\n",
    "### Instituto de Física - Universidad de Antioquia"
   ]
  },
  {
   "cell_type": "markdown",
   "metadata": {},
   "source": [
    "## Clase 0 - Introducción"
   ]
  },
  {
   "cell_type": "markdown",
   "metadata": {},
   "source": [
    "### Presentaciones"
   ]
  },
  {
   "cell_type": "markdown",
   "metadata": {},
   "source": [
    "#### Presentación del profesor"
   ]
  },
  {
   "cell_type": "markdown",
   "metadata": {},
   "source": [
    "- Mi nombre es **Jorge I. Zuluaga**, soy físico y tengo un doctorado en física de la Universidad de Antioquia (especialidad Física Teórica y Fenomenología de Partículas elementales).\n",
    "\n",
    "- Mis áreas de **especialidad técnica** son los métodos numéricos y computacionales aplicados en ciencias, la programación científica, y la computación de alto rendimiento.\n",
    "\n",
    "<center><img src=\"https://github.com/JorgeZuluaga/NotasMetodosNumericos/raw/master/figuras/ejemplo-computacion-cientifica2.gif\" width=400></br></center>\n",
    "\n",
    "- Mis áreas de **especialidad científica** son la mecánica celeste, las ciencias planetarias, los exoplanetas y las astrobiología.\n",
    "\n",
    "<center><img src=\"https://github.com/JorgeZuluaga/NotasMetodosNumericos/raw/master/figuras/exoplanetas.jpeg\" width=400></br></center>\n",
    "\n",
    "- Mi gran pasión (además de la investigación científica y la programación) es la divulgación científica.  Durante unos años realicé un programa para Telemedellín que se llamaba [Eso no tiene ciencia](https://www.youtube.com/watch?v=_e9t6Qdt8yo&list=PL2hl1l-cy3EJVCLCFSHnEPgV8e2klVMTQ)\n",
    "\n",
    "<center><img src=\"https://github.com/JorgeZuluaga/NotasMetodosNumericos/raw/master/figuras/zuluaga-divulgacion.jpg\" width=400></center>\n",
    "\n",
    "- También hago divulgación en redes sociales, [TikTok, @zuluagajorge](tiktok.com/@zuluagajorge), [Twitter, @zuluagajorge](https://twitter.com/zuluagajorge) e [Instagram](https://www.instagram.com/jorgeizuluagac/), aunque en estas dos últimas público especialmente cosas personales."
   ]
  },
  {
   "cell_type": "markdown",
   "metadata": {},
   "source": [
    "#### Presentación de los estudiantes"
   ]
  },
  {
   "cell_type": "markdown",
   "metadata": {},
   "source": [
    "- ¿Quiénes son los estudiantes de este grupo?\n",
    "\n",
    "- ¿En qué área o proyecto específico están trabajando?\n",
    "\n",
    "- ¿Por qué escogieron está área de profundización?"
   ]
  },
  {
   "cell_type": "markdown",
   "metadata": {},
   "source": [
    "### Para saber más"
   ]
  },
  {
   "cell_type": "markdown",
   "metadata": {},
   "source": [
    "Consulte el repositorio en línea del curso para otro material."
   ]
  },
  {
   "cell_type": "markdown",
   "metadata": {},
   "source": [
    "<hr/>"
   ]
  },
  {
   "cell_type": "markdown",
   "metadata": {},
   "source": [
    "*Los cuadernos de clase del curso de astrodinámica también están [disponibles en línea].*"
   ]
  }
 ],
 "metadata": {
  "kernelspec": {
   "display_name": "Python 3",
   "language": "python",
   "name": "python3"
  },
  "language_info": {
   "codemirror_mode": {
    "name": "ipython",
    "version": 3
   },
   "file_extension": ".py",
   "mimetype": "text/x-python",
   "name": "python",
   "nbconvert_exporter": "python",
   "pygments_lexer": "ipython3",
   "version": "3.10.12"
  }
 },
 "nbformat": 4,
 "nbformat_minor": 2
}
